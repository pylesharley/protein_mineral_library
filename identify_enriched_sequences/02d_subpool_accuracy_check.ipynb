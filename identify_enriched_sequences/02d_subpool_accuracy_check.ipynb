{
 "cells": [
  {
   "cell_type": "code",
   "execution_count": 1,
   "metadata": {},
   "outputs": [],
   "source": [
    "import matplotlib.pyplot as plt\n",
    "import pandas as pd\n",
    "import seaborn\n",
    "import re\n",
    "import glob\n",
    "import sys"
   ]
  },
  {
   "cell_type": "code",
   "execution_count": 1,
   "metadata": {},
   "outputs": [
    {
     "data": {
      "text/plain": [
       "'/home/pylesh/PATH/protein_mineral_library/identify_enriched_sequences'"
      ]
     },
     "execution_count": 1,
     "metadata": {},
     "output_type": "execute_result"
    }
   ],
   "source": [
    "pwd"
   ]
  },
  {
   "cell_type": "code",
   "execution_count": 3,
   "metadata": {},
   "outputs": [],
   "source": [
    "subpool_folders = glob.glob('./matched_read_subset/*/')\n",
    "subpool_folders.sort()"
   ]
  },
  {
   "cell_type": "code",
   "execution_count": 4,
   "metadata": {},
   "outputs": [
    {
     "data": {
      "text/plain": [
       "['/home/pylesh/designs/repeats/library_analysis_may_2023_FeO/matched_read_subset/SP10_FeO/',\n",
       " '/home/pylesh/designs/repeats/library_analysis_may_2023_FeO/matched_read_subset/SP11_FeO/',\n",
       " '/home/pylesh/designs/repeats/library_analysis_may_2023_FeO/matched_read_subset/SP12_FeO/',\n",
       " '/home/pylesh/designs/repeats/library_analysis_may_2023_FeO/matched_read_subset/SP13_FeO/',\n",
       " '/home/pylesh/designs/repeats/library_analysis_may_2023_FeO/matched_read_subset/SP14_FeO/',\n",
       " '/home/pylesh/designs/repeats/library_analysis_may_2023_FeO/matched_read_subset/SP15_FeO/',\n",
       " '/home/pylesh/designs/repeats/library_analysis_may_2023_FeO/matched_read_subset/SP16_FeO/',\n",
       " '/home/pylesh/designs/repeats/library_analysis_may_2023_FeO/matched_read_subset/SP1_FeO/',\n",
       " '/home/pylesh/designs/repeats/library_analysis_may_2023_FeO/matched_read_subset/SP2_FeO/',\n",
       " '/home/pylesh/designs/repeats/library_analysis_may_2023_FeO/matched_read_subset/SP3_FeO/',\n",
       " '/home/pylesh/designs/repeats/library_analysis_may_2023_FeO/matched_read_subset/SP4_FeO/',\n",
       " '/home/pylesh/designs/repeats/library_analysis_may_2023_FeO/matched_read_subset/SP5_FeO/',\n",
       " '/home/pylesh/designs/repeats/library_analysis_may_2023_FeO/matched_read_subset/SP6_FeO/',\n",
       " '/home/pylesh/designs/repeats/library_analysis_may_2023_FeO/matched_read_subset/SP7_FeO/',\n",
       " '/home/pylesh/designs/repeats/library_analysis_may_2023_FeO/matched_read_subset/SP8_FeO/',\n",
       " '/home/pylesh/designs/repeats/library_analysis_may_2023_FeO/matched_read_subset/SP9_FeO/',\n",
       " '/home/pylesh/designs/repeats/library_analysis_may_2023_FeO/matched_read_subset/troubleshooting/']"
      ]
     },
     "execution_count": 4,
     "metadata": {},
     "output_type": "execute_result"
    }
   ],
   "source": [
    "subpools_keyed_by_designs = {}\n",
    "subpool_design_fastas = glob.glob('./chip_ordered_sequences/*assembled_SP*fas')\n",
    "for fasta in subpool_design_fastas:\n",
    "    subpool = fasta.split('assembled_')[1].replace('.fas','')\n",
    "    \n",
    "    with open(fasta, 'r') as fasta_file:\n",
    "        fasta_lines = fasta_file.readlines()\n",
    "    fasta_names = [line[1:].strip() for line in fasta_lines if line.startswith('>')]\n",
    "    for name in fasta_names:\n",
    "        subpools_keyed_by_designs[name] = subpool\n",
    "subpool_folders"
   ]
  },
  {
   "cell_type": "code",
   "execution_count": 5,
   "metadata": {},
   "outputs": [],
   "source": [
    "# subpools_keyed_by_designs"
   ]
  },
  {
   "cell_type": "code",
   "execution_count": 6,
   "metadata": {},
   "outputs": [
    {
     "data": {
      "text/plain": [
       "'SP0'"
      ]
     },
     "execution_count": 6,
     "metadata": {},
     "output_type": "execute_result"
    }
   ],
   "source": [
    "subpools_keyed_by_designs['unassigned'] = 'SP0'\n",
    "subpools_keyed_by_designs['unassigned']"
   ]
  },
  {
   "cell_type": "code",
   "execution_count": 7,
   "metadata": {},
   "outputs": [
    {
     "name": "stdout",
     "output_type": "stream",
     "text": [
      "/home/pylesh/designs/repeats/library_analysis_may_2023_FeO/matched_read_subset/SP10_FeO/\n",
      "/home/pylesh/designs/repeats/library_analysis_may_2023_FeO/matched_read_subset/SP11_FeO/\n",
      "/home/pylesh/designs/repeats/library_analysis_may_2023_FeO/matched_read_subset/SP12_FeO/\n",
      "/home/pylesh/designs/repeats/library_analysis_may_2023_FeO/matched_read_subset/SP13_FeO/\n",
      "/home/pylesh/designs/repeats/library_analysis_may_2023_FeO/matched_read_subset/SP14_FeO/\n",
      "/home/pylesh/designs/repeats/library_analysis_may_2023_FeO/matched_read_subset/SP15_FeO/\n",
      "/home/pylesh/designs/repeats/library_analysis_may_2023_FeO/matched_read_subset/SP16_FeO/\n",
      "/home/pylesh/designs/repeats/library_analysis_may_2023_FeO/matched_read_subset/SP1_FeO/\n",
      "/home/pylesh/designs/repeats/library_analysis_may_2023_FeO/matched_read_subset/SP2_FeO/\n",
      "/home/pylesh/designs/repeats/library_analysis_may_2023_FeO/matched_read_subset/SP3_FeO/\n",
      "/home/pylesh/designs/repeats/library_analysis_may_2023_FeO/matched_read_subset/SP4_FeO/\n",
      "/home/pylesh/designs/repeats/library_analysis_may_2023_FeO/matched_read_subset/SP5_FeO/\n",
      "/home/pylesh/designs/repeats/library_analysis_may_2023_FeO/matched_read_subset/SP6_FeO/\n",
      "/home/pylesh/designs/repeats/library_analysis_may_2023_FeO/matched_read_subset/SP7_FeO/\n",
      "/home/pylesh/designs/repeats/library_analysis_may_2023_FeO/matched_read_subset/SP8_FeO/\n",
      "/home/pylesh/designs/repeats/library_analysis_may_2023_FeO/matched_read_subset/SP9_FeO/\n"
     ]
    },
    {
     "ename": "IndexError",
     "evalue": "list index out of range",
     "output_type": "error",
     "traceback": [
      "\u001b[0;31m---------------------------------------------------------------------------\u001b[0m",
      "\u001b[0;31mIndexError\u001b[0m                                Traceback (most recent call last)",
      "\u001b[0;32m/scratch/pylesh/48630774/ipykernel_2357586/3246379593.py\u001b[0m in \u001b[0;36m<module>\u001b[0;34m\u001b[0m\n\u001b[1;32m      3\u001b[0m \u001b[0;32mfor\u001b[0m \u001b[0mfolder\u001b[0m \u001b[0;32min\u001b[0m \u001b[0msubpool_folders\u001b[0m\u001b[0;34m:\u001b[0m\u001b[0;34m\u001b[0m\u001b[0;34m\u001b[0m\u001b[0m\n\u001b[1;32m      4\u001b[0m     \u001b[0mread_subpool\u001b[0m \u001b[0;34m=\u001b[0m \u001b[0mfolder\u001b[0m\u001b[0;34m.\u001b[0m\u001b[0msplit\u001b[0m\u001b[0;34m(\u001b[0m\u001b[0;34m'/'\u001b[0m\u001b[0;34m)\u001b[0m\u001b[0;34m[\u001b[0m\u001b[0;34m-\u001b[0m\u001b[0;36m2\u001b[0m\u001b[0;34m]\u001b[0m\u001b[0;34m.\u001b[0m\u001b[0msplit\u001b[0m\u001b[0;34m(\u001b[0m\u001b[0;34m'_'\u001b[0m\u001b[0;34m)\u001b[0m\u001b[0;34m[\u001b[0m\u001b[0;36m0\u001b[0m\u001b[0;34m]\u001b[0m\u001b[0;34m\u001b[0m\u001b[0;34m\u001b[0m\u001b[0m\n\u001b[0;32m----> 5\u001b[0;31m     \u001b[0mcondition\u001b[0m \u001b[0;34m=\u001b[0m \u001b[0mfolder\u001b[0m\u001b[0;34m.\u001b[0m\u001b[0msplit\u001b[0m\u001b[0;34m(\u001b[0m\u001b[0;34m'/'\u001b[0m\u001b[0;34m)\u001b[0m\u001b[0;34m[\u001b[0m\u001b[0;34m-\u001b[0m\u001b[0;36m2\u001b[0m\u001b[0;34m]\u001b[0m\u001b[0;34m.\u001b[0m\u001b[0msplit\u001b[0m\u001b[0;34m(\u001b[0m\u001b[0;34m'_'\u001b[0m\u001b[0;34m)\u001b[0m\u001b[0;34m[\u001b[0m\u001b[0;36m1\u001b[0m\u001b[0;34m]\u001b[0m\u001b[0;34m\u001b[0m\u001b[0;34m\u001b[0m\u001b[0m\n\u001b[0m\u001b[1;32m      6\u001b[0m     \u001b[0mprint\u001b[0m \u001b[0;34m(\u001b[0m\u001b[0mfolder\u001b[0m\u001b[0;34m)\u001b[0m\u001b[0;34m\u001b[0m\u001b[0;34m\u001b[0m\u001b[0m\n\u001b[1;32m      7\u001b[0m     \u001b[0;32mtry\u001b[0m\u001b[0;34m:\u001b[0m\u001b[0;34m\u001b[0m\u001b[0;34m\u001b[0m\u001b[0m\n",
      "\u001b[0;31mIndexError\u001b[0m: list index out of range"
     ]
    }
   ],
   "source": [
    "observed_SP_keyed_by_putative_SP_and_condition = {}\n",
    "\n",
    "for folder in subpool_folders:\n",
    "    read_subpool = folder.split('/')[-2].split('_')[0]\n",
    "    condition = folder.split('/')[-2].split('_')[1]\n",
    "    print (folder)\n",
    "    try:\n",
    "        observed_SP_keyed_by_putative_SP_and_condition[read_subpool][condition] = []\n",
    "    except KeyError: \n",
    "        observed_SP_keyed_by_putative_SP_and_condition[read_subpool] = {condition:[]}\n",
    "    \n",
    "    fasta_files = glob.glob(folder+'/*_reads.fas')\n",
    "    for file in fasta_files:\n",
    "        with open(file, 'r') as open_file:\n",
    "            num_seq = int(len(open_file.readlines()) / 2)\n",
    "        if file.endswith('unassigned_reads.fas'):\n",
    "            design = 'unassigned'\n",
    "        else:\n",
    "            try:\n",
    "                design = file.split('_chimera_')[1]\n",
    "            except:\n",
    "                design = file.split('/')[-1]\n",
    "        design = design.replace('_reads.fas','')\n",
    "        subpool = subpools_keyed_by_designs[design]\n",
    "        observed_SP_keyed_by_putative_SP_and_condition[read_subpool][condition].extend([subpool]*num_seq)"
   ]
  },
  {
   "cell_type": "code",
   "execution_count": 8,
   "metadata": {},
   "outputs": [],
   "source": [
    "df = pd.DataFrame()"
   ]
  },
  {
   "cell_type": "code",
   "execution_count": 9,
   "metadata": {},
   "outputs": [],
   "source": [
    "# observed_SP_keyed_by_putative_SP_and_condition['SP16']['Hem']"
   ]
  },
  {
   "cell_type": "code",
   "execution_count": 10,
   "metadata": {},
   "outputs": [],
   "source": [
    "subpool_list = [f'SP{sp}' for sp in range(1,17,1)]\n",
    "\n",
    "all_expected_subpools = []\n",
    "all_observed_subpools = []\n",
    "all_proportions = []\n",
    "all_conds = []\n",
    "\n",
    "for sp in [f'SP{sp}' for sp in range(1,17,1)]:\n",
    "    for cond in ['exp', 'ZnO', 'Fe2O3', 'In2O3']:\n",
    "        try:\n",
    "            l = observed_SP_keyed_by_putative_SP_and_condition[sp][cond]\n",
    "            s = sorted(list(set(l)))\n",
    "            #print ()\n",
    "            #print (sp, cond)\n",
    "            total = float(len(l))\n",
    "            for ob_sp in [f'SP{sp}' for sp in range(0,17,1)]:\n",
    "                proportion = l.count(ob_sp) / total\n",
    "                #print ('\\t',ob_sp, proportion)\n",
    "                all_expected_subpools.append(int(sp.replace('SP','')))\n",
    "                all_observed_subpools.append(int(ob_sp.replace('SP','')))\n",
    "                all_proportions.append(proportion)\n",
    "                all_conds.append(cond)\n",
    "        except KeyError:\n",
    "            print (sp,cond)\n",
    "        #print (total)\n"
   ]
  },
  {
   "cell_type": "code",
   "execution_count": 2,
   "metadata": {},
   "outputs": [],
   "source": [
    "df['expected'] = all_expected_subpools\n",
    "df['observed subpool'] = all_observed_subpools\n",
    "df['sequence fraction'] = all_proportions\n",
    "df['conditions'] = all_conds\n",
    "print (df)"
   ]
  },
  {
   "cell_type": "code",
   "execution_count": 3,
   "metadata": {},
   "outputs": [
    {
     "data": {
      "text/plain": [
       "'/home/pylesh/PATH/protein_mineral_library/identify_enriched_sequences'"
      ]
     },
     "execution_count": 3,
     "metadata": {},
     "output_type": "execute_result"
    }
   ],
   "source": [
    "pwd"
   ]
  },
  {
   "cell_type": "code",
   "execution_count": 4,
   "metadata": {},
   "outputs": [],
   "source": [
    "import matplotlib\n",
    "import matplotlib.pyplot as plt\n",
    "sashacolors = ['#000000', '#e6194b', '#3cb44b', '#ffe119', '#4363d8', '#f58231', '#911eb4', '#46f0f0', '#f032e6', '#bcf60c', '#fabebe', '#008080', '#e6beff', '#9a6324', '#aaffc3', '#808000', '#ffd8b1', '#000075', '#808080', '#800000', '#c5c19c', '#42aaf5', '#ce42f5', '#edaf4b']\n",
    "seaborn.set(font_scale = 1.1)\n",
    "# seaborn.set(weight='black')\n",
    "# help(seaborn.set_theme)\n",
    "seaborn.set_style(\"whitegrid\")\n",
    "seaborn.set_palette(sashacolors)\n",
    "\n",
    "sashacolors = ['#000000', '#e6194b', '#3cb44b', '#ffe119', '#4363d8', '#f58231', '#911eb4', '#46f0f0', '#f032e6', '#bcf60c', '#fabebe', '#008080', '#e6beff', '#9a6324', '#aaffc3', '#808000', '#ffd8b1', '#000075', '#808080', '#800000', '#c5c19c', '#42aaf5', '#ce42f5', '#efb75c']\n",
    "seaborn.set_palette(sashacolors)\n",
    "\n",
    "for sp in range(1,17,1):\n",
    "    for cond in ['exp', 'ZnO', 'Fe2O3', 'In2O3']:\n",
    "        print (sp, cond)\n",
    "        sub_df = df[df['expected'] == sp]\n",
    "        sub_df = sub_df[sub_df['conditions'] == cond]\n",
    "        if len(sub_df):\n",
    "            f, ax = plt.subplots(figsize=(6, 4))\n",
    "            seaborn.despine(f)\n",
    "            seaborn.barplot( data=sub_df, x=\"observed subpool\", y=\"sequence fraction\", errwidth=0, palette=sashacolors )\n",
    "            ax.set_title(f'Reads in (expected) subpool SP{sp}_{cond}')\n",
    "            plt.savefig( f'subgroup_asignment/reads_in_expected_SP{sp}_{cond}.png', dpi=600)\n",
    "        else:\n",
    "            print ('\\tskip')\n"
   ]
  },
  {
   "cell_type": "code",
   "execution_count": null,
   "metadata": {},
   "outputs": [],
   "source": []
  }
 ],
 "metadata": {
  "kernelspec": {
   "display_name": "PyRosetta",
   "language": "python",
   "name": "pyrosetta"
  },
  "language_info": {
   "codemirror_mode": {
    "name": "ipython",
    "version": 3
   },
   "file_extension": ".py",
   "mimetype": "text/x-python",
   "name": "python",
   "nbconvert_exporter": "python",
   "pygments_lexer": "ipython3",
   "version": "3.10.12"
  }
 },
 "nbformat": 4,
 "nbformat_minor": 4
}
