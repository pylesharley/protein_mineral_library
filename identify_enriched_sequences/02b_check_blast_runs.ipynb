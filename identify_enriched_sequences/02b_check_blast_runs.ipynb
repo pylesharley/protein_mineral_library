{
 "cells": [
  {
   "cell_type": "code",
   "execution_count": 1,
   "metadata": {},
   "outputs": [],
   "source": [
    "import re\n",
    "import os"
   ]
  },
  {
   "cell_type": "code",
   "execution_count": 2,
   "metadata": {},
   "outputs": [],
   "source": [
    "run_list = 'blast.list'\n",
    "# run_list = 'blast_June2022_rerun.list'\n"
   ]
  },
  {
   "cell_type": "code",
   "execution_count": 3,
   "metadata": {},
   "outputs": [],
   "source": [
    "with open(run_list, 'r') as run_list_file:\n",
    "    runs = run_list_file.readlines()"
   ]
  },
  {
   "cell_type": "code",
   "execution_count": 4,
   "metadata": {},
   "outputs": [],
   "source": [
    "unruns = []\n",
    "for r in runs: \n",
    "    r = r.strip()\n",
    "    tag = re.sub(r'^.*\\-t (\\w+) .*$', r'\\1', r)\n",
    "    design = re.sub(r'^.*\\-d .*\\/(.*)\\.fas$', r'\\1', r)\n",
    "    file_to_seek = f'matched_reads/{design}_{tag}_counts.tsv'\n",
    "    if not os.path.isfile(file_to_seek):\n",
    "        unruns.append(r)"
   ]
  },
  {
   "cell_type": "code",
   "execution_count": 5,
   "metadata": {},
   "outputs": [],
   "source": [
    "unrun_list = 'blast_unrun.list'"
   ]
  },
  {
   "cell_type": "code",
   "execution_count": 6,
   "metadata": {},
   "outputs": [],
   "source": [
    "with open(unrun_list, 'w') as unrun_list_file:\n",
    "    print ('\\n'.join(unruns), file=unrun_list_file)"
   ]
  },
  {
   "cell_type": "code",
   "execution_count": 1,
   "metadata": {},
   "outputs": [],
   "source": [
    "# unruns"
   ]
  },
  {
   "cell_type": "code",
   "execution_count": 2,
   "metadata": {},
   "outputs": [],
   "source": [
    "# len(unruns)"
   ]
  },
  {
   "cell_type": "code",
   "execution_count": null,
   "metadata": {},
   "outputs": [],
   "source": []
  }
 ],
 "metadata": {
  "kernelspec": {
   "display_name": "PyRosetta",
   "language": "python",
   "name": "pyrosetta"
  },
  "language_info": {
   "codemirror_mode": {
    "name": "ipython",
    "version": 3
   },
   "file_extension": ".py",
   "mimetype": "text/x-python",
   "name": "python",
   "nbconvert_exporter": "python",
   "pygments_lexer": "ipython3",
   "version": "3.10.12"
  }
 },
 "nbformat": 4,
 "nbformat_minor": 4
}
