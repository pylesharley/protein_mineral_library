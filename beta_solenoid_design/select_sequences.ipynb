{
 "cells": [
  {
   "cell_type": "code",
   "execution_count": 1,
   "metadata": {},
   "outputs": [],
   "source": [
    "import matplotlib.pyplot as plt\n",
    "import pandas as pd\n",
    "import seaborn\n",
    "import glob\n",
    "import re"
   ]
  },
  {
   "cell_type": "code",
   "execution_count": 3,
   "metadata": {},
   "outputs": [],
   "source": [
    "RoseTTA_Fold_scorefile = 'your_filename_here.csv'\n",
    "scored_seqs = pd.read_csv(RoseTTA_Fold_scorefile)"
   ]
  },
  {
   "cell_type": "code",
   "execution_count": 4,
   "metadata": {},
   "outputs": [],
   "source": [
    "def glob_fasta_into_dictionary(glob_string):\n",
    "    fasta_files = glob.glob(glob_string)\n",
    "    fasta_dictionary = {}\n",
    "    \n",
    "    for file in fasta_files:\n",
    "        with open(file, 'r') as input_file:\n",
    "            fasta_dictionary[re.sub(r'.*/(.*)\\.fa.*',r'\\1',file)] = input_file.readlines()[1]\n",
    "    \n",
    "    return fasta_dictionary\n"
   ]
  },
  {
   "cell_type": "code",
   "execution_count": 6,
   "metadata": {},
   "outputs": [],
   "source": [
    "seq_dict = glob_fasta_into_dictionary('example/initial_seq/*fas')\n",
    "seq_list = []\n",
    "mutation_list = []\n",
    "\n",
    "for name in scored_seqs['name']:\n",
    "    seq_list.append(seq_dict[name])\n",
    "    mutation_list.append(name.count('MUT'))\n",
    "    \n",
    "scored_seqs['seq'] = seq_list\n",
    "scored_seqs['mut'] = mutation_list\n",
    "scored_seqs\n",
    "\n"
   ]
  },
  {
   "cell_type": "code",
   "execution_count": 7,
   "metadata": {},
   "outputs": [],
   "source": [
    "plt.rcParams[\"figure.figsize\"] = (10,10)\n",
    "seaborn.scatterplot(data=scored_seqs, x='kl', y='cce', hue='mut', s=6, palette='rocket') #, hue='mut', s=6,  palette='Spectral')\n",
    "plt.autoscale()\n",
    "plt.tight_layout()"
   ]
  },
  {
   "cell_type": "code",
   "execution_count": 9,
   "metadata": {},
   "outputs": [],
   "source": [
    "base_pattern = []\n",
    "for name in scored_seqs['name']:\n",
    "    base_pattern.append(re.sub(r'(.*)_[A-Z]+', r'\\1', name))\n",
    "\n",
    "scored_seqs['base'] = base_pattern\n"
   ]
  },
  {
   "cell_type": "code",
   "execution_count": 12,
   "metadata": {},
   "outputs": [
    {
     "name": "stdout",
     "output_type": "stream",
     "text": [
      "233\n",
      "50\n"
     ]
    }
   ],
   "source": [
    "top_sequences_from_each_pattern = []\n",
    "\n",
    "for base in scored_seqs['base'].unique():\n",
    "    base_scored_seqs = scored_seqs[scored_seqs['base'] == base]\n",
    "#     print (base_scored_seqs.quantile(.90))\n",
    "    max_index = base_scored_seqs['kl'].idxmax()\n",
    "    #print (max_index, base_scored_seqs['kl'][max_index])\n",
    "    top_percentile = base_scored_seqs[base_scored_seqs['kl'] > base_scored_seqs.quantile(.95)['kl']]\n",
    "    top_percentile = top_percentile[top_percentile['cce'] > base_scored_seqs.quantile(.95)['cce']]\n",
    "#     print (len(base_scored_seqs), len(top_percentile))\n",
    "    if len(top_percentile) > 5:\n",
    "        top_percentile = top_percentile.sort_values('kl', ascending = False).head(5)\n",
    "#     print (top_percentile)\n",
    "#     print (len(top_percentile), len(top_percentile))\n",
    "    for base, name, seq, kl in zip(top_percentile['base'], top_percentile['name'], top_percentile['seq'], top_percentile['kl']):\n",
    "        top_sequences_from_each_pattern.append((base, name, seq, kl))\n",
    "#     print ()\n",
    "    \n",
    "# print (len(scored_seqs), len(best_for_each_pattern))\n",
    "print (len(top_sequences_from_each_pattern))\n",
    "# best_for_each_pattern\n",
    "\n",
    "bases = [base for base, name, seq, kl in top_sequences_from_each_pattern]\n",
    "print (len(set(bases)))\n",
    "# top5_names = [name for base, name, seq, kl in top_sequences_from_each_pattern]\n",
    "\n",
    "with open('./example/initial_seq/selected.fas', 'w') as output:\n",
    "    for base, name, seq, kl in top_sequences_from_each_pattern:\n",
    "        print ('>{0}_{2}\\n{1}'.format(name, seq.strip(), str(round(kl,2)).replace('.','_')), file=output )\n",
    "#         print (kl)"
   ]
  }
 ],
 "metadata": {
  "kernelspec": {
   "display_name": "PyRosetta",
   "language": "python",
   "name": "pyrosetta"
  },
  "language_info": {
   "codemirror_mode": {
    "name": "ipython",
    "version": 3
   },
   "file_extension": ".py",
   "mimetype": "text/x-python",
   "name": "python",
   "nbconvert_exporter": "python",
   "pygments_lexer": "ipython3",
   "version": "3.10.12"
  }
 },
 "nbformat": 4,
 "nbformat_minor": 4
}
