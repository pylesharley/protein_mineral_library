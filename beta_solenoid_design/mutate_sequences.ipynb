{
 "cells": [
  {
   "cell_type": "code",
   "execution_count": 1,
   "metadata": {},
   "outputs": [],
   "source": [
    "import itertools\n",
    "import random\n",
    "import math\n",
    "import re"
   ]
  },
  {
   "cell_type": "code",
   "execution_count": 2,
   "metadata": {},
   "outputs": [],
   "source": [
    "def mutate(base, sub_dict, versions=3, mut_per_ver=[1,1,1,1,2,2,2,2,3,3,3,4], max_length=150):\n",
    "    for v in range(versions):\n",
    "        base_list = list(base)\n",
    "        #print ()\n",
    "        for n in range(random.choice(mut_per_ver)):\n",
    "            index = random.choice([i for i in range(len(base))])\n",
    "            #print (index)\n",
    "            #print (base[index], sub_dict[base[index]])\n",
    "            base_list[index] = random.choice(sub_dict[base[index]])\n",
    "        #print (base)\n",
    "        new_base = ''.join(base_list)\n",
    "        copies = math.floor(max_length / len(new_base))\n",
    "        #print (copies, len(new_base), max_length)\n",
    "        yield(new_base*copies)\n"
   ]
  },
  {
   "cell_type": "code",
   "execution_count": 3,
   "metadata": {},
   "outputs": [],
   "source": [
    "def load_fasta(fas_filename):\n",
    "    fas_list = []\n",
    "    with open(fas_filename, 'r') as fas_file:\n",
    "        fas_lines = fas_file.readlines()\n",
    "    for i, line in enumerate( fas_lines ):\n",
    "        if line.startswith('>'):\n",
    "            header = re.sub(r'>(.+)\\n$', r'\\1', line)\n",
    "            seq = re.sub(r'(.+)\\n$', r'\\1', fas_lines[i+1])\n",
    "            fas_list.append( (header, seq) )    \n",
    "    return fas_list"
   ]
  },
  {
   "cell_type": "code",
   "execution_count": 4,
   "metadata": {},
   "outputs": [],
   "source": [
    "def determine_repeats(sequence, mute=1, max_repeat_length=0):\n",
    "    seq_len = len(sequence)\n",
    "    if not max_repeat_length:\n",
    "        max_repeat_length = int(seq_len/2)\n",
    "    #print (max_repeat_length,'max_repeat_length')\n",
    "    repeat_ranges = [x for x in range(5, max_repeat_length)]\n",
    "    match_fraction = []\n",
    "    for rep in repeat_ranges:\n",
    "        #print (rep,'rep')\n",
    "        seq_frags = []\n",
    "        for r in range(0, int((seq_len+1)/rep)):\n",
    "            seq_frags.append(sequence[r*rep: min([seq_len,r*rep+rep]) ])\n",
    "        if not mute: print ('\\n'.join(seq_frags))\n",
    "        total = 0.0\n",
    "        match = 0.0\n",
    "        #print (seq_frags,'seq_frags')\n",
    "        for fragA, fragB in itertools.combinations(seq_frags, 2):\n",
    "            #print ('fragA, fragB', fragA, fragB)\n",
    "            for p in range(min([len(fragA), len(fragB)])):\n",
    "                total += 1.0\n",
    "                if fragA[p] == fragB[p]:\n",
    "                    match += 1.0\n",
    "        if not mute: print(match/total)\n",
    "        if not mute: print()\n",
    "        match_fraction.append(match/total)\n",
    "    \n",
    "    maximum = max(match_fraction)\n",
    "    if not mute: print (maximum)\n",
    "    if not mute: print (match_fraction.index(maximum))\n",
    "    repeat = repeat_ranges[match_fraction.index(maximum)]\n",
    "    return (repeat)"
   ]
  },
  {
   "cell_type": "code",
   "execution_count": 5,
   "metadata": {},
   "outputs": [],
   "source": [
    "substitutions = {   'Q':'EK',\n",
    "                    'E':'QK',\n",
    "                    'K':'QE',\n",
    "                    'A':'STV',\n",
    "                    'S':'TPGA',\n",
    "                    'T':'SPGA',\n",
    "                    'G':'GGSSPADNT',\n",
    "                    'P':'KGAS',\n",
    "                    'N':'DDQQGGAKS',\n",
    "                    'D':'NNQQGGAKS',\n",
    "                    'C':'VILAST',\n",
    "                    'V':'IIIIILLLLLFFAWYTS',\n",
    "                    'I':'VVVVVLLLLLFFAWYTS',\n",
    "                    'L':'VVVVVLIIIIFFAWYTS',\n",
    "                    'F':'YYYWWILV',\n",
    "                    'Y':'FFFWWILV',\n",
    "                    'W':'FFFYYYILV'} "
   ]
  },
  {
   "cell_type": "code",
   "execution_count": 8,
   "metadata": {},
   "outputs": [],
   "source": [
    "fasta_list = load_fasta('./example/initial_seq/selected.fas')"
   ]
  },
  {
   "cell_type": "code",
   "execution_count": 9,
   "metadata": {},
   "outputs": [
    {
     "name": "stdout",
     "output_type": "stream",
     "text": [
      "453 sequences generated\n"
     ]
    }
   ],
   "source": [
    "max_length = 200\n",
    "\n",
    "mutated_sequences = []\n",
    "\n",
    "seen = {}\n",
    "\n",
    "for name, sequence in fasta_list:\n",
    "    repeat_len = determine_repeats(sequence, 50)\n",
    "    single_repeat = sequence[:repeat_len]\n",
    "    og_seq = single_repeat*math.floor(max_length / len(single_repeat))\n",
    "    #print (0, og_seq)\n",
    "    \n",
    "    try: seen[og_seq]\n",
    "    except KeyError:\n",
    "        seen[og_seq] = 1\n",
    "        mutated_sequences.append('>{0}_MUT0'.format(name))\n",
    "        mutated_sequences.append(og_seq)\n",
    "\n",
    "    for v, seq in enumerate(mutate(single_repeat, substitutions,  versions=80, max_length=max_length)):\n",
    "        #print (v+1, seq)\n",
    "        try: seen[seq]\n",
    "        except KeyError:\n",
    "            seen[seq] = 1\n",
    "            mutated_sequences.append('>{0}_MUT{1}'.format(name,v+1))\n",
    "            mutated_sequences.append(seq)\n",
    "        \n",
    "\n",
    "print (int(len(mutated_sequences)/2), 'sequences generated')\n",
    "# mutated_sequences\n",
    "# print ('\\n'.join(mutated_sequences))"
   ]
  },
  {
   "cell_type": "code",
   "execution_count": 10,
   "metadata": {},
   "outputs": [],
   "source": [
    "with open('./example/mutated_seq/mutated_sequences.fas', 'w') as output:\n",
    "    print ('\\n'.join(mutated_sequences), file=output)\n",
    "    "
   ]
  },
  {
   "cell_type": "code",
   "execution_count": null,
   "metadata": {},
   "outputs": [],
   "source": []
  },
  {
   "cell_type": "code",
   "execution_count": null,
   "metadata": {},
   "outputs": [],
   "source": []
  }
 ],
 "metadata": {
  "kernelspec": {
   "display_name": "PyRosetta",
   "language": "python",
   "name": "pyrosetta"
  },
  "language_info": {
   "codemirror_mode": {
    "name": "ipython",
    "version": 3
   },
   "file_extension": ".py",
   "mimetype": "text/x-python",
   "name": "python",
   "nbconvert_exporter": "python",
   "pygments_lexer": "ipython3",
   "version": "3.10.12"
  }
 },
 "nbformat": 4,
 "nbformat_minor": 4
}
