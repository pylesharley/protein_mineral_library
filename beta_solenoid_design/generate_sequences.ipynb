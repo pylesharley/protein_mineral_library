{
 "cells": [
  {
   "cell_type": "code",
   "execution_count": 1,
   "metadata": {},
   "outputs": [],
   "source": [
    "import random\n",
    "import glob\n",
    "import re"
   ]
  },
  {
   "cell_type": "code",
   "execution_count": 2,
   "metadata": {},
   "outputs": [],
   "source": [
    "ambig = {'b':'LLIIIVVVAAAFYW','u':'','o':'','z':'QN','x':'','j':'GGGGGGGGSSSTPPND'}\n",
    "motif = 'QbQb'\n",
    "linker = 'j'"
   ]
  },
  {
   "cell_type": "code",
   "execution_count": 4,
   "metadata": {},
   "outputs": [
    {
     "name": "stdout",
     "output_type": "stream",
     "text": [
      "/home/pylesh/PATH/protein_mineral_library/beta_solenoid_design/test\n"
     ]
    }
   ],
   "source": [
    "cd ./example"
   ]
  },
  {
   "cell_type": "code",
   "execution_count": 6,
   "metadata": {},
   "outputs": [],
   "source": [
    "length = 200\n",
    "seq_vars = 10\n",
    "\n",
    "sequences_to_print = []\n",
    "# outfile_name = 'starting_seq_patterns_B.fas'\n",
    "out_dir = './initial_seq/'\n",
    "\n",
    "for i in range(200):\n",
    "    serial_list = []\n",
    "    base = ''\n",
    "    c1 = random.choice([1,2,2,3])\n",
    "    base += motif * c1\n",
    "    c2 = random.choice([len(base)-1,len(base)])\n",
    "    base = base[:c2]\n",
    "    c3 = random.choice([0,1,2,2,2,3,3,3,3,4,5])\n",
    "    base += linker * c3\n",
    "#     print(base)\n",
    "    \n",
    "    c4 = random.choice([0,0,1,1,2,3,4])\n",
    "    serial_list.extend([c1,c2,c3,c4])\n",
    "    \n",
    "    for i in range(c4):\n",
    "        c5 = random.choice([1,2,3])\n",
    "        base += motif * c5\n",
    "        c6 = random.choice([len(base)-1,len(base)])\n",
    "        base = base[:c6]\n",
    "        c7 = random.choice([0,1,2,2,2,3,3,3,3,4,5])\n",
    "        base += linker * c7\n",
    "        serial_list.extend([c5,c6,c7])\n",
    "    \n",
    "#     print(base, serial_list)\n",
    "    \n",
    "    pattern_name = 'pat{0}'.format(('_'.join([str(x) for x in serial_list])))\n",
    "    \n",
    "    for var in range(1,seq_vars+1):\n",
    "        seq_base = ''\n",
    "        for p in base:\n",
    "            try:\n",
    "                seq_base += random.choice(ambig[p])\n",
    "            except KeyError:\n",
    "                seq_base += p\n",
    "#         print(seq_base)\n",
    "        full_seq = seq_base * (int(length / len(seq_base)) + 1)\n",
    "        seq_name = pattern_name+'_seq{0}'.format(var)\n",
    "#         print('>'+seq_name)\n",
    "#         print(full_seq)\n",
    "#         sequences_to_print.append('>'+seq_name)\n",
    "        sequences_to_print.append(full_seq)\n",
    "\n",
    "        with open(out_dir+'/'+seq_name+'.fas', 'w') as outfile:\n",
    "            print ('>'+seq_name, file=outfile)\n",
    "            print (full_seq, file=outfile)\n",
    "            "
   ]
  }
 ],
 "metadata": {
  "kernelspec": {
   "display_name": "PyRosetta",
   "language": "python",
   "name": "pyrosetta"
  },
  "language_info": {
   "codemirror_mode": {
    "name": "ipython",
    "version": 3
   },
   "file_extension": ".py",
   "mimetype": "text/x-python",
   "name": "python",
   "nbconvert_exporter": "python",
   "pygments_lexer": "ipython3",
   "version": "3.10.12"
  }
 },
 "nbformat": 4,
 "nbformat_minor": 4
}
